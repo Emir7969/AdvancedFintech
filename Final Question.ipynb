{
 "cells": [
  {
   "cell_type": "code",
   "execution_count": 10,
   "id": "89c4581b-ada5-4066-97a8-933201266f9d",
   "metadata": {},
   "outputs": [],
   "source": [
    "import quandl\n",
    "import yfinance as yf\n",
    "import cryptocompare\n",
    "import pandas as pd\n",
    "import numpy as np\n",
    "from statsmodels.tsa.api import VAR\n",
    "from sklearn.preprocessing import MinMaxScaler\n",
    "import matplotlib.pyplot as plt\n",
    "quandl.ApiConfig.api_key = 'YOUR_QUANDL_API_KEY'\n"
   ]
  },
  {
   "cell_type": "markdown",
   "id": "f1225cac-0de5-4700-8aaa-654c04638fe5",
   "metadata": {},
   "source": [
    "For this report, I would like to predict The price of Arbitrium versus USD. Arbitrium is a relatively new L2 project constructed on the Ethereum Ecosystem. With the latest update, the transaction fees on Arbitrium One Chain is incredibly low (About 30 cents), therefore there is a big hype in the ecosystem. The main drivers that can effect the price of Arbitrium agains USD can be given as:\n",
    "1. The Price of Bitcoin\n",
    "2. The Price of Ethereum\n",
    "3. Dollar Index (DXY)\n",
    "4. S&P 500 Index (SPX)\n",
    "5. Volatility Index (VIX)\n",
    "6. Total Market CAP (Total)\n",
    "7. Total Market CAP Excluding Bitcoin (Total2)\n",
    "8. Total Market CAP Excluding Bitcoin and Ethereum (Total3)\n",
    "9. Bitcoin Dominance (BTC.D)\n",
    "10. USDT Dominance (USDT.D)"
   ]
  },
  {
   "cell_type": "code",
   "execution_count": 13,
   "id": "2101deff-e531-4ee0-800a-17e9973f89f4",
   "metadata": {},
   "outputs": [
    {
     "name": "stderr",
     "output_type": "stream",
     "text": [
      "[*********************100%%**********************]  1 of 1 completed\n",
      "[*********************100%%**********************]  1 of 1 completed\n"
     ]
    },
    {
     "ename": "TypeError",
     "evalue": "list indices must be integers or slices, not str",
     "output_type": "error",
     "traceback": [
      "\u001b[0;31m---------------------------------------------------------------------------\u001b[0m",
      "\u001b[0;31mTypeError\u001b[0m                                 Traceback (most recent call last)",
      "Cell \u001b[0;32mIn[13], line 18\u001b[0m\n\u001b[1;32m     15\u001b[0m vix_data \u001b[38;5;241m=\u001b[39m yf\u001b[38;5;241m.\u001b[39mdownload(\u001b[38;5;124m'\u001b[39m\u001b[38;5;124m^VIX\u001b[39m\u001b[38;5;124m'\u001b[39m, start\u001b[38;5;241m=\u001b[39m\u001b[38;5;124m'\u001b[39m\u001b[38;5;124m2023-04-20\u001b[39m\u001b[38;5;124m'\u001b[39m, end\u001b[38;5;241m=\u001b[39m\u001b[38;5;124m'\u001b[39m\u001b[38;5;124m2024-04-20\u001b[39m\u001b[38;5;124m'\u001b[39m)[[\u001b[38;5;124m'\u001b[39m\u001b[38;5;124mClose\u001b[39m\u001b[38;5;124m'\u001b[39m]]\n\u001b[1;32m     17\u001b[0m \u001b[38;5;66;03m# Convert cryptocompare data to DataFrame\u001b[39;00m\n\u001b[0;32m---> 18\u001b[0m bitcoin_df \u001b[38;5;241m=\u001b[39m pd\u001b[38;5;241m.\u001b[39mDataFrame(\u001b[43mbitcoin_data\u001b[49m\u001b[43m[\u001b[49m\u001b[38;5;124;43m'\u001b[39;49m\u001b[38;5;124;43mData\u001b[39;49m\u001b[38;5;124;43m'\u001b[39;49m\u001b[43m]\u001b[49m)\u001b[38;5;241m.\u001b[39mset_index(\u001b[38;5;124m'\u001b[39m\u001b[38;5;124mtime\u001b[39m\u001b[38;5;124m'\u001b[39m)\n\u001b[1;32m     19\u001b[0m ethereum_df \u001b[38;5;241m=\u001b[39m pd\u001b[38;5;241m.\u001b[39mDataFrame(ethereum_data[\u001b[38;5;124m'\u001b[39m\u001b[38;5;124mData\u001b[39m\u001b[38;5;124m'\u001b[39m])\u001b[38;5;241m.\u001b[39mset_index(\u001b[38;5;124m'\u001b[39m\u001b[38;5;124mtime\u001b[39m\u001b[38;5;124m'\u001b[39m)\n\u001b[1;32m     21\u001b[0m \u001b[38;5;66;03m# Extract 'close' price\u001b[39;00m\n",
      "\u001b[0;31mTypeError\u001b[0m: list indices must be integers or slices, not str"
     ]
    }
   ],
   "source": [
    "import yfinance as yf\n",
    "import cryptocompare\n",
    "import pandas as pd\n",
    "import numpy as np\n",
    "from statsmodels.tsa.api import VAR\n",
    "from sklearn.preprocessing import MinMaxScaler\n",
    "import matplotlib.pyplot as plt\n",
    "\n",
    "# Fetch data from cryptocompare\n",
    "bitcoin_data = cryptocompare.get_historical_price_day('BTC', currency='USD', limit=365)\n",
    "ethereum_data = cryptocompare.get_historical_price_day('ETH', currency='USD', limit=365)\n",
    "\n",
    "# Fetch S&P 500 (SPX) and VIX data using yfinance\n",
    "spx_data = yf.download('^GSPC', start='2023-04-20', end='2024-04-20')[['Close']]\n",
    "vix_data = yf.download('^VIX', start='2023-04-20', end='2024-04-20')[['Close']]\n",
    "\n",
    "# Convert cryptocompare data to DataFrame\n",
    "bitcoin_df = pd.DataFrame(bitcoin_data['Data']).set_index('time')\n",
    "ethereum_df = pd.DataFrame(ethereum_data['Data']).set_index('time')\n",
    "\n",
    "# Extract 'close' price\n",
    "bitcoin_df = bitcoin_df['close']\n",
    "ethereum_df = ethereum_df['close']\n",
    "\n",
    "# Convert yfinance data to DataFrame\n",
    "spx_df = spx_data['Close']\n",
    "vix_df = vix_data['Close']\n",
    "\n",
    "# Concatenate all the data into one DataFrame\n",
    "data = pd.concat([bitcoin_df, ethereum_df, spx_df, vix_df], axis=1)\n",
    "data.columns = ['BTC/USD', 'ETH/USD', 'SPX', 'VIX']\n",
    "\n",
    "# Drop any missing values\n",
    "data.dropna(inplace=True)\n",
    "\n",
    "# Check the first few rows of the data\n",
    "print(data.head())\n",
    "\n",
    "# Split the data into training and test sets\n",
    "train_size = int(len(data) * 0.8)\n",
    "train, test = data[:train_size], data[train_size:]\n",
    "\n",
    "# Scale the data using MinMaxScaler\n",
    "scaler = MinMaxScaler()\n",
    "train_scaled = scaler.fit_transform(train)\n",
    "test_scaled = scaler.transform(test)\n",
    "\n",
    "# Fit the VAR model\n",
    "model = VAR(train_scaled)\n",
    "model_fitted = model.fit(maxlags=15)\n",
    "\n",
    "# Forecast\n",
    "forecast = model_fitted.forecast(train_scaled[-model_fitted.k_ar:], steps=len(test))\n",
    "\n",
    "# Inverse transform the forecasted data\n",
    "forecast_inv = scaler.inverse_transform(forecast)\n",
    "forecast_df = pd.DataFrame(forecast_inv, index=test.index, columns=data.columns)\n",
    "\n",
    "# Plot the actual vs forecasted values\n",
    "plt.figure(figsize=(15, 6))\n",
    "for column in data.columns:\n",
    "    plt.plot(data.index, data[column], label=column)\n",
    "    plt.plot(forecast_df.index, forecast_df[column], label=f\"Forecast {column}\", linestyle='--')\n",
    "plt.title('Actual vs Forecasted Prices')\n",
    "plt.xlabel('Date')\n",
    "plt.ylabel('Price')\n",
    "plt.legend()\n",
    "plt.show()\n",
    "\n"
   ]
  },
  {
   "cell_type": "code",
   "execution_count": null,
   "id": "2ed4c265-549c-4d33-98bd-8de493f93e39",
   "metadata": {},
   "outputs": [],
   "source": []
  }
 ],
 "metadata": {
  "kernelspec": {
   "display_name": "Python 3 (ipykernel)",
   "language": "python",
   "name": "python3"
  },
  "language_info": {
   "codemirror_mode": {
    "name": "ipython",
    "version": 3
   },
   "file_extension": ".py",
   "mimetype": "text/x-python",
   "name": "python",
   "nbconvert_exporter": "python",
   "pygments_lexer": "ipython3",
   "version": "3.11.0"
  }
 },
 "nbformat": 4,
 "nbformat_minor": 5
}
