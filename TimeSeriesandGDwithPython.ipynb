{
 "cells": [
  {
   "cell_type": "code",
   "execution_count": 15,
   "id": "0eda9424-8e90-4d46-a2b9-d3c0c213c96e",
   "metadata": {},
   "outputs": [
    {
     "name": "stdout",
     "output_type": "stream",
     "text": [
      "Estimated alpha (intercept): 11624.872720708176\n",
      "Estimated beta (slope): 17.62812296177699\n"
     ]
    }
   ],
   "source": [
    "import requests\n",
    "import numpy as np\n",
    "import pandas as pd\n",
    "\n",
    "\n",
    "url = 'https://min-api.cryptocompare.com/data/v2/histoday'\n",
    "params = {\n",
    "    'fsym': 'BTC',\n",
    "    'tsym': 'USD',\n",
    "    'limit': 1825  #5 years\n",
    "}\n",
    "\n",
    "response = requests.get(url, params=params)\n",
    "data = response.json()\n",
    "\n",
    "if data['Response'] == 'Success':\n",
    "    df = pd.DataFrame(data['Data']['Data'])\n",
    "    df['time'] = pd.to_datetime(df['time'], unit='s')\n",
    "    df.set_index('time', inplace=True)\n",
    "    yt = df['close'].values\n",
    "\n",
    "   \n",
    "\n",
    "# OLS Estimation\n",
    "\n",
    "if yt is not None:\n",
    "    \n",
    "    xt = np.arange(len(yt))\n",
    "    \n",
    "    \n",
    "    x_m = np.mean(xt)\n",
    "    y_m = np.mean(yt)\n",
    "    \n",
    "    \n",
    "    beta = np.sum((xt - x_m) * (yt - y_m)) / np.sum((xt - x_m)**2)\n",
    "    \n",
    "   \n",
    "    alpha = y_m - beta * x_m\n",
    "    \n",
    "    print(f\"Estimated alpha (intercept): {alpha}\")\n",
    "    print(f\"Estimated beta (slope): {beta}\")\n",
    "\n"
   ]
  },
  {
   "cell_type": "code",
   "execution_count": 18,
   "id": "f1ba0b68-bab6-4ba5-9918-b922f59d609b",
   "metadata": {},
   "outputs": [
    {
     "name": "stdout",
     "output_type": "stream",
     "text": [
      "Estimated alpha (intercept): 27709.75076019942\n",
      "Estimated beta (slope): 9291.75699602125\n"
     ]
    }
   ],
   "source": [
    "import requests\n",
    "import numpy as np\n",
    "import pandas as pd\n",
    "\n",
    "\n",
    "\n",
    "url = 'https://min-api.cryptocompare.com/data/v2/histoday'\n",
    "params = {\n",
    "    'fsym': 'BTC',\n",
    "    'tsym': 'USD',\n",
    "    'limit': 1825  # 5 years\n",
    "}\n",
    "\n",
    "response = requests.get(url, params=params)\n",
    "data = response.json()\n",
    "\n",
    "if data['Response'] == 'Success':\n",
    "    df = pd.DataFrame(data['Data']['Data'])\n",
    "    df['time'] = pd.to_datetime(df['time'], unit='s')\n",
    "    df.set_index('time', inplace=True)\n",
    "    yt = df['close'].values\n",
    "\n",
    "   \n",
    "\n",
    "# Gradient Descent for Linear Regression\n",
    "\n",
    "if yt is not None:\n",
    "    # Generate an independent variable\n",
    "    xt = np.arange(len(yt))\n",
    "    \n",
    "    # Normalize features\n",
    "    xt = (xt - np.mean(xt)) / np.std(xt)\n",
    "    \n",
    "    # Initialize alpha and beta\n",
    "    alpha = 10000\n",
    "    beta = 10\n",
    "    \n",
    "    # Define learning rate and number of iterations\n",
    "    learning_rate = 0.001\n",
    "    iterations = 10000  # Increased iterations\n",
    "    \n",
    "    n = len(yt)\n",
    "    \n",
    "    # Gradient Descent\n",
    "    for _ in range(iterations):\n",
    "        \n",
    "        predictions = alpha + beta * xt\n",
    "        \n",
    "        \n",
    "        alpha_gradient = -(1/n) * np.sum(yt - predictions)\n",
    "        beta_gradient = -(1/n) * np.sum((yt - predictions) * xt)\n",
    "        \n",
    "        \n",
    "        alpha -= learning_rate * alpha_gradient\n",
    "        beta -= learning_rate * beta_gradient\n",
    "    \n",
    "    print(f\"Estimated alpha (intercept): {alpha}\")\n",
    "    print(f\"Estimated beta (slope): {beta}\")\n",
    "\n"
   ]
  },
  {
   "cell_type": "code",
   "execution_count": null,
   "id": "6af7f9f7-2c0f-4b8e-82db-d7ec8d7de27f",
   "metadata": {},
   "outputs": [],
   "source": [
    "# The problem with gradient descent estimation is that depending on the initial alpha and beta values, and the learning rate; the estimation might diverge rather than converging to the zero result. In our example, even though setting the initial values close to the predicted values from OLS, the output is diverging from the result. By changing the learning rate, I couldn't fix the problem."
   ]
  }
 ],
 "metadata": {
  "kernelspec": {
   "display_name": "Python 3 (ipykernel)",
   "language": "python",
   "name": "python3"
  },
  "language_info": {
   "codemirror_mode": {
    "name": "ipython",
    "version": 3
   },
   "file_extension": ".py",
   "mimetype": "text/x-python",
   "name": "python",
   "nbconvert_exporter": "python",
   "pygments_lexer": "ipython3",
   "version": "3.11.0"
  }
 },
 "nbformat": 4,
 "nbformat_minor": 5
}
